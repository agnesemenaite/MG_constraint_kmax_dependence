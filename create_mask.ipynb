{
 "cells": [
  {
   "cell_type": "code",
   "execution_count": 1,
   "id": "regional-intelligence",
   "metadata": {},
   "outputs": [],
   "source": [
    "import numpy as np"
   ]
  },
  {
   "cell_type": "code",
   "execution_count": 2,
   "id": "married-reset",
   "metadata": {},
   "outputs": [],
   "source": [
    "#load 3x2pt data vector and create an empty mask array\n",
    "dv_path = '/Users/agne/Documents/DESC/LSST_DESC_SRD_v1_release/forecasting/WL-LSS-CL/datav/3x2pt_Y1_fid'\n",
    "data_vector = np.genfromtxt(dv_path)\n",
    "mask = np.zeros(len(data_vector))"
   ]
  },
  {
   "cell_type": "code",
   "execution_count": 3,
   "id": "adaptive-handle",
   "metadata": {},
   "outputs": [
    {
     "data": {
      "text/plain": [
       "(540, 2)"
      ]
     },
     "execution_count": 3,
     "metadata": {},
     "output_type": "execute_result"
    }
   ],
   "source": [
    "data_vector.shape"
   ]
  },
  {
   "cell_type": "code",
   "execution_count": 4,
   "id": "atlantic-affairs",
   "metadata": {},
   "outputs": [],
   "source": [
    "#find where data vector is valued non-zero (from inv_cov.py code) and seet thosse mask values to 1\n",
    "iddata = np.where(data_vector[:,1]>1.0e-15)\n",
    "mask[iddata]=1"
   ]
  },
  {
   "cell_type": "code",
   "execution_count": 5,
   "id": "adaptive-airfare",
   "metadata": {},
   "outputs": [],
   "source": [
    "inv_cov = np.loadtxt('inv_cov_matrix') #load the inverse covariance matrix to check if the cuts agree"
   ]
  },
  {
   "cell_type": "code",
   "execution_count": 6,
   "id": "fabulous-confidentiality",
   "metadata": {},
   "outputs": [
    {
     "name": "stdout",
     "output_type": "stream",
     "text": [
      "match\n"
     ]
    }
   ],
   "source": [
    "if (np.where(np.diag(inv_cov)>0)[0].all()==iddata[0].all()): print (\"match\") #check if the cuts agree the inverse covariance cuts"
   ]
  },
  {
   "cell_type": "code",
   "execution_count": 7,
   "id": "improved-parks",
   "metadata": {},
   "outputs": [],
   "source": [
    "#np.savetxt('scale_mask', mask)"
   ]
  },
  {
   "cell_type": "code",
   "execution_count": null,
   "id": "figured-guard",
   "metadata": {},
   "outputs": [],
   "source": []
  }
 ],
 "metadata": {
  "kernelspec": {
   "display_name": "Python 3",
   "language": "python",
   "name": "python3"
  },
  "language_info": {
   "codemirror_mode": {
    "name": "ipython",
    "version": 3
   },
   "file_extension": ".py",
   "mimetype": "text/x-python",
   "name": "python",
   "nbconvert_exporter": "python",
   "pygments_lexer": "ipython3",
   "version": "3.8.2"
  }
 },
 "nbformat": 4,
 "nbformat_minor": 5
}
